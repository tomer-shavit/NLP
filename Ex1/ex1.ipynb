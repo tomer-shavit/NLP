{
 "cells": [
  {
   "metadata": {
    "ExecuteTime": {
     "end_time": "2024-11-20T15:38:29.438738Z",
     "start_time": "2024-11-20T15:36:04.510705Z"
    }
   },
   "cell_type": "code",
   "source": [
    "import spacy\n",
    "from datasets import load_dataset\n",
    "from collections import defaultdict, Counter\n",
    "import math\n",
    "\n",
    "nlp = spacy.load(\"en_core_web_sm\")\n",
    "dataset = load_dataset(\"wikitext\", \"wikitext-2-raw-v1\", split=\"train\")\n",
    "\n",
    "def preprocess(text):\n",
    "    doc = nlp(text)\n",
    "    return [token.lemma_ for token in doc if token.is_alpha]\n",
    "\n",
    "documents = [preprocess(line[\"text\"]) for line in dataset]\n"
   ],
   "id": "6ddbb2f35cdcae7a",
   "outputs": [],
   "execution_count": 29
  },
  {
   "metadata": {
    "ExecuteTime": {
     "end_time": "2024-11-20T16:16:06.264807Z",
     "start_time": "2024-11-20T16:16:05.459235Z"
    }
   },
   "cell_type": "code",
   "source": [
    "unigram_counts = Counter()\n",
    "total_unigrams = 0\n",
    "bigram_counts = defaultdict(Counter)\n",
    "\n",
    "for doc in documents:\n",
    "    unigram_counts.update(doc)\n",
    "    total_unigrams += len(doc)\n",
    "\n",
    "    prev_word = \"<START>\"\n",
    "    for word in doc:\n",
    "        bigram_counts[prev_word][word] += 1\n",
    "        prev_word = word\n",
    "\n",
    "unigram_probs = {word: count / total_unigrams for word, count in unigram_counts.items()}\n",
    "bigram_probs = {}\n",
    "\n",
    "for prev_word, next_words in bigram_counts.items():\n",
    "    total_count = sum(next_words.values())\n",
    "    bigram_probs[prev_word] = {\n",
    "        word: count / total_count\n",
    "        for word, count in next_words.items()\n",
    "    }\n"
   ],
   "id": "fe35b59691ece857",
   "outputs": [],
   "execution_count": 95
  },
  {
   "metadata": {
    "ExecuteTime": {
     "end_time": "2024-11-20T16:16:06.269651Z",
     "start_time": "2024-11-20T16:16:06.267464Z"
    }
   },
   "cell_type": "code",
   "source": [
    "def predict_next_word(context, bigram_probs):\n",
    "    if context not in bigram_probs:\n",
    "        return None\n",
    "    return max(bigram_probs[context], key=bigram_probs[context].get)\n"
   ],
   "id": "378b41fc3b74d591",
   "outputs": [],
   "execution_count": 96
  },
  {
   "metadata": {
    "ExecuteTime": {
     "end_time": "2024-11-20T16:16:06.733357Z",
     "start_time": "2024-11-20T16:16:06.730300Z"
    }
   },
   "cell_type": "code",
   "source": [
    "def compute_sentence_probability(sentence, bigram_probs):\n",
    "    words = preprocess(sentence)\n",
    "    prob = 0\n",
    "    prev_word = \"<START>\"\n",
    "    for word in words:\n",
    "        bigram_prob = bigram_probs.get(prev_word, {}).get(word, 0)\n",
    "        if bigram_prob > 0:\n",
    "            prob += math.log(bigram_prob)\n",
    "        else:\n",
    "            return -float(\"inf\")\n",
    "        prev_word = word\n",
    "    return prob\n",
    "\n",
    "\n",
    "def compute_perplexity(sentences, bigram_probs):\n",
    "    total_log_prob = 0\n",
    "    total_word_count = 0\n",
    "\n",
    "    for sentence in sentences:\n",
    "        words = preprocess(sentence)\n",
    "        prev_word = \"<START>\"\n",
    "\n",
    "        for word in words:\n",
    "            if prev_word in bigram_probs and word in bigram_probs[prev_word]:\n",
    "                word_prob = bigram_probs[prev_word][word]\n",
    "            else:\n",
    "                word_prob = 0\n",
    "            if word_prob > 0:\n",
    "                total_log_prob += math.log(word_prob)\n",
    "            else:\n",
    "                total_log_prob += float('-inf')\n",
    "            prev_word = word\n",
    "\n",
    "        total_word_count += len(words)\n",
    "\n",
    "    avg_log_prob = total_log_prob / total_word_count\n",
    "\n",
    "    perplexity = math.exp(-avg_log_prob)\n",
    "    return perplexity\n"
   ],
   "id": "ac57bcba72d85929",
   "outputs": [],
   "execution_count": 97
  },
  {
   "metadata": {
    "ExecuteTime": {
     "end_time": "2024-11-20T16:16:07.238110Z",
     "start_time": "2024-11-20T16:16:07.233873Z"
    }
   },
   "cell_type": "code",
   "source": [
    "#2\n",
    "context = \"in\"\n",
    "next_word = predict_next_word(context, bigram_probs)\n",
    "print(f\"The next word is: {next_word}\")"
   ],
   "id": "b746278e7fc1fb85",
   "outputs": [
    {
     "name": "stdout",
     "output_type": "stream",
     "text": [
      "The next word is: the\n"
     ]
    }
   ],
   "execution_count": 98
  },
  {
   "metadata": {
    "ExecuteTime": {
     "end_time": "2024-11-20T16:16:07.828102Z",
     "start_time": "2024-11-20T16:16:07.810161Z"
    }
   },
   "cell_type": "code",
   "source": [
    "#3\n",
    "sentences = [\n",
    "    \"Brad Pitt was born in Oklahoma\",\n",
    "    \"The actor was born in USA\"\n",
    "]\n",
    "\n",
    "probabilities = [math.exp(compute_sentence_probability(sentence, bigram_probs)) for sentence in sentences]\n",
    "\n",
    "perplexity = compute_perplexity(sentences, bigram_probs)\n",
    "\n",
    "for i, sentence in enumerate(sentences):\n",
    "    print(f\"Probability of sentence {i + 1} ('{sentence}'): {probabilities[i]}\")\n",
    "print(f\"Perplexity of the test set: {perplexity}\")\n"
   ],
   "id": "a4a63d6b1aaccf9c",
   "outputs": [
    {
     "name": "stdout",
     "output_type": "stream",
     "text": [
      "Probability of sentence 1 ('Brad Pitt was born in Oklahoma'): 0.0\n",
      "Probability of sentence 2 ('The actor was born in USA'): 1.286901194526109e-13\n",
      "Perplexity of the test set: inf\n"
     ]
    }
   ],
   "execution_count": 99
  },
  {
   "metadata": {
    "ExecuteTime": {
     "end_time": "2024-11-20T16:16:08.449926Z",
     "start_time": "2024-11-20T16:16:08.444364Z"
    }
   },
   "cell_type": "code",
   "source": [
    "def interpolated_probability(prev_word, word, bigram_probs, unigram_probs, lambda_bigram, lambda_unigram):\n",
    "    bigram_prob = bigram_probs.get(prev_word, {}).get(word, 0)\n",
    "    unigram_prob = unigram_probs.get(word, 0)\n",
    "    return lambda_bigram * bigram_prob + lambda_unigram * unigram_prob\n",
    "\n",
    "\n",
    "def compute_interpolated_sentence_probability(sentence, bigram_probs, unigram_probs, lambda_bigram=2 / 3,\n",
    "                                              lambda_unigram=1 / 3):\n",
    "    words = preprocess(sentence)\n",
    "    prob = 0\n",
    "    prev_word = \"<START>\"\n",
    "    for word in words:\n",
    "        interpolated_prob = interpolated_probability(prev_word, word, bigram_probs, unigram_probs, lambda_bigram,\n",
    "                                                     lambda_unigram)\n",
    "        if interpolated_prob > 0:\n",
    "            prob += math.log(interpolated_prob)\n",
    "        else:\n",
    "            return -float(\"inf\")\n",
    "        prev_word = word\n",
    "    return prob"
   ],
   "id": "fe4dd983d1bba98c",
   "outputs": [],
   "execution_count": 100
  },
  {
   "metadata": {
    "ExecuteTime": {
     "end_time": "2024-11-20T16:16:09.039119Z",
     "start_time": "2024-11-20T16:16:09.034161Z"
    }
   },
   "cell_type": "code",
   "source": [
    "def compute_interpolated_perplexity(sentences, bigram_probs, unigram_probs, lambda_bigram, lambda_unigram):\n",
    "    total_log_prob = 0\n",
    "    total_word_count = 0\n",
    "\n",
    "    for sentence in sentences:\n",
    "        words = preprocess(sentence)\n",
    "        prev_word = \"<START>\"\n",
    "        for word in words:\n",
    "            interpolated_prob = interpolated_probability(prev_word, word, bigram_probs, unigram_probs, lambda_bigram, lambda_unigram)\n",
    "            if interpolated_prob > 0:\n",
    "                total_log_prob += math.log(interpolated_prob)\n",
    "            else:\n",
    "                return float(\"inf\")\n",
    "            prev_word = word\n",
    "        total_word_count += len(words)\n",
    "\n",
    "    avg_log_prob = total_log_prob / total_word_count\n",
    "    return math.exp(-avg_log_prob)"
   ],
   "id": "1cc99153b3891bef",
   "outputs": [],
   "execution_count": 101
  },
  {
   "metadata": {
    "ExecuteTime": {
     "end_time": "2024-11-20T16:16:09.776411Z",
     "start_time": "2024-11-20T16:16:09.758516Z"
    }
   },
   "cell_type": "code",
   "source": [
    "lambda_bigram = 2/3\n",
    "lambda_unigram = 1/3\n",
    "\n",
    "interpolated_probabilities = [\n",
    "    math.exp(compute_interpolated_sentence_probability(sentence, bigram_probs, unigram_probs, lambda_bigram, lambda_unigram))\n",
    "    for sentence in sentences\n",
    "]\n",
    "\n",
    "interpolated_perplexity = compute_interpolated_perplexity(sentences, bigram_probs, unigram_probs, lambda_bigram, lambda_unigram)\n",
    "\n",
    "for i, sentence in enumerate(sentences):\n",
    "    if interpolated_probabilities[i] == 0:\n",
    "        print(f\"Probability of sentence {i + 1} ('{sentence}'): 0 (log prob = -inf)\")\n",
    "    else:\n",
    "        print(f\"Probability of sentence {i + 1} ('{sentence}'): {interpolated_probabilities[i]}\")\n",
    "\n",
    "print(f\"Perplexity of the test set: {interpolated_perplexity}\")"
   ],
   "id": "dc5cdfa159c5ceb5",
   "outputs": [
    {
     "name": "stdout",
     "output_type": "stream",
     "text": [
      "Probability of sentence 1 ('Brad Pitt was born in Oklahoma'): 1.9053847478951965e-16\n",
      "Probability of sentence 2 ('The actor was born in USA'): 3.4324627566807654e-14\n",
      "Perplexity of the test set: 270.4171866251256\n"
     ]
    }
   ],
   "execution_count": 102
  },
  {
   "metadata": {},
   "cell_type": "code",
   "outputs": [],
   "execution_count": null,
   "source": "",
   "id": "f4f03916b177444c"
  }
 ],
 "metadata": {
  "kernelspec": {
   "name": "python3",
   "language": "python",
   "display_name": "Python 3 (ipykernel)"
  }
 },
 "nbformat": 5,
 "nbformat_minor": 9
}
